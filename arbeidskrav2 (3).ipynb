{
 "cells": [
  {
   "cell_type": "code",
   "execution_count": 9,
   "id": "c35132f3-b020-40cd-81d2-5fe65d61237b",
   "metadata": {},
   "outputs": [],
   "source": [
    "# importer pakkene\n",
    "import numpy as np\n",
    "from matplotlib import pyplot as plt\n",
    "import sympy as sp"
   ]
  },
  {
   "cell_type": "code",
   "execution_count": 10,
   "id": "da0242d9-7b63-4bd9-b038-400136d11987",
   "metadata": {},
   "outputs": [],
   "source": [
    "# Etterspørselsfunksjon\n",
    "\n",
    "def x_d(p):\n",
    "    return 500 - 3.2*p\n",
    "\n",
    "#Tilbudsfunksjon\n",
    "\n",
    "def x_s(p,t):\n",
    "    return -100+4.3*p*(1-t)"
   ]
  },
  {
   "cell_type": "code",
   "execution_count": null,
   "id": "2eb170ba-fb31-4c09-bfba-79222c7c786f",
   "metadata": {},
   "outputs": [],
   "source": [
    "# vi lager en basisfigur\n",
    "\n",
    "p_num=np.linspace(0.1,100,100)\n",
    "\n",
    "def create_ax():\n",
    "                fig, ax = plt.subplots()\n",
    "                ax.set_ylabel('Pris per kilo', loc='top')\n",
    "                ax.set_xlabel('Tonn per uke', loc='right')\n",
    "                ax.set(xlim=(75,280))\n",
    "                ax.set(ylim=(40,100))\n",
    "                ax.spines['top'].set_color('none')\n",
    "                ax.spines['right'].set_color('none')\n",
    "                \n",
    "                return fig, ax\n",
    "\n",
    "fig, ax = create_ax()\n",
    "\n",
    "# plott funksjonene\n",
    "\n",
    "ax.plot(x_d(p_num),p_num, label='Etterspørsel')\n",
    "\n",
    "ax.plot(x_s(p_num, 0),p_num, label='Tilbud')\n",
    "\n",
    "ax.legend(bbox_to_anchor=(1.5,0.6));"
   ]
  },
  {
   "cell_type": "markdown",
   "id": "9c299453-aa1b-41e6-8de9-9a69a4b5ff11",
   "metadata": {},
   "source": [
    "### OPPGAVE 1\n",
    "\n",
    "##### Tegn inn tilbudsfunksjon med 25% mva, og forklar hvorfor denne har brattere helning enn tilbudsfunksjon uten mva (t=0)"
   ]
  },
  {
   "cell_type": "code",
   "execution_count": 11,
   "id": "a936046c-35cc-4b61-b687-62f9be283e35",
   "metadata": {},
   "outputs": [],
   "source": [
    "# setter mva verdi \n",
    "mva = 0.25\n",
    "\n",
    "# setter tilbudsfunksjonen med mva\n",
    "def demand_mva(p,t):\n",
    "    return -100+4.3*p*(1-t)*(1-mva)\n"
   ]
  },
  {
   "cell_type": "code",
   "execution_count": 12,
   "id": "304aa3ab-aed0-4b38-b582-70344cee35fd",
   "metadata": {},
   "outputs": [
    {
     "ename": "NameError",
     "evalue": "name 'create_ax' is not defined",
     "output_type": "error",
     "traceback": [
      "\u001b[0;31m---------------------------------------------------------------------------\u001b[0m",
      "\u001b[0;31mNameError\u001b[0m                                 Traceback (most recent call last)",
      "Cell \u001b[0;32mIn[12], line 2\u001b[0m\n\u001b[1;32m      1\u001b[0m \u001b[38;5;66;03m# lager axer\u001b[39;00m\n\u001b[0;32m----> 2\u001b[0m fig, ax1 \u001b[38;5;241m=\u001b[39m \u001b[43mcreate_ax\u001b[49m()\n\u001b[1;32m      4\u001b[0m \u001b[38;5;66;03m# plotter funksjonene\u001b[39;00m\n\u001b[1;32m      6\u001b[0m ax1\u001b[38;5;241m.\u001b[39mplot(x_d(p_num),p_num, label\u001b[38;5;241m=\u001b[39m\u001b[38;5;124m'\u001b[39m\u001b[38;5;124mEtterspørsel\u001b[39m\u001b[38;5;124m'\u001b[39m)\n",
      "\u001b[0;31mNameError\u001b[0m: name 'create_ax' is not defined"
     ]
    }
   ],
   "source": [
    "# lager axer\n",
    "fig, ax1 = create_ax()\n",
    "\n",
    "# plotter funksjonene\n",
    "\n",
    "ax1.plot(x_d(p_num),p_num, label='Etterspørsel')\n",
    "\n",
    "ax1.plot(x_s(p_num, 0),p_num, label='Tilbud')\n",
    "\n",
    "# plotter tilbudsfunksjonen med mva\n",
    "\n",
    "ax1.plot(demand_mva(p_num, 0),p_num, label='Tilbud med mva')\n",
    "ax1.legend(bbox_to_anchor=(1,1));\n"
   ]
  },
  {
   "cell_type": "markdown",
   "id": "af4f7965-f8af-44f5-beaf-f2d691a3e326",
   "metadata": {},
   "source": [
    "##### Her kan vi se en graf som viser en tilbudsfunksjon, en etterspørselsfunksjon og en tilbudsfunksjon med merverdiavgift. Hvorfor \"Tilbud med mva\" hart en brattere helning enn \"tilbud\" kommer av at med en avgift som mva vil kostnadene bli dyrere som fører til at prisen stiger, dette gir en brattere helning. "
   ]
  },
  {
   "cell_type": "markdown",
   "id": "01c04f52-9ead-469a-822a-a022b16bf50b",
   "metadata": {},
   "source": [
    "### OPPGAVE 2\n",
    "\n",
    "##### Beregn likevektspris og -kvantum med og uten mva, og vis disse i figuren."
   ]
  },
  {
   "cell_type": "code",
   "execution_count": 54,
   "id": "e97c644e-66f3-40c4-ab2e-494fce4f177d",
   "metadata": {},
   "outputs": [
    {
     "data": {
      "text/plain": [
       "{x: 244.000000000000, p: 80.0000000000000}"
      ]
     },
     "execution_count": 54,
     "metadata": {},
     "output_type": "execute_result"
    }
   ],
   "source": [
    "#Regner ut likningssettet for å få likevektsprisen\n",
    "\n",
    "from sympy import symbols, Eq, solve\n",
    "\n",
    "x, p, t, d, s = symbols('x p t d s')\n",
    "\n",
    "eq1 = Eq(x, 500 - 3.2*p)\n",
    "eq2 = Eq(x, -100 + 4.3*p)\n",
    "eq3 = Eq(eq1, eq2)\n",
    "\n",
    "solve((eq1, eq2, eq3), (x, p))\n"
   ]
  },
  {
   "cell_type": "code",
   "execution_count": 57,
   "id": "cc74fcd3-88d6-493d-8761-a90345774a7b",
   "metadata": {},
   "outputs": [
    {
     "data": {
      "text/plain": [
       "244.0"
      ]
     },
     "execution_count": 57,
     "metadata": {},
     "output_type": "execute_result"
    }
   ],
   "source": [
    "# setter likevektsprisen inn i funksjonen for å få kvantum verdien \n",
    "500-3.2*80"
   ]
  },
  {
   "cell_type": "code",
   "execution_count": 56,
   "id": "c509cd1b-bb4f-4050-aab7-74aac7f1c00d",
   "metadata": {},
   "outputs": [
    {
     "data": {
      "text/plain": [
       "{x: 201.167315175097, p: 93.3852140077821}"
      ]
     },
     "execution_count": 56,
     "metadata": {},
     "output_type": "execute_result"
    }
   ],
   "source": [
    "# regner ut likningssettet for å få likevektsprisen, med mva\n",
    "\n",
    "from sympy import symbols, Eq, solve\n",
    "\n",
    "mva = 0.25\n",
    "\n",
    "x, p, t, d, s = symbols('x p t d s')\n",
    "\n",
    "eq1 = Eq(x, 500 - 3.2*p)\n",
    "eq2 = Eq(x, -100 + 4.3*p*(1-mva))\n",
    "eq3 = Eq(eq1, eq2)\n",
    "\n",
    "solve((eq1, eq2, eq3), (x, p))"
   ]
  },
  {
   "cell_type": "code",
   "execution_count": 58,
   "id": "7e79aac5-0eeb-4bc8-abe5-59f887d664db",
   "metadata": {},
   "outputs": [
    {
     "data": {
      "text/plain": [
       "201.16731517509726"
      ]
     },
     "execution_count": 58,
     "metadata": {},
     "output_type": "execute_result"
    }
   ],
   "source": [
    "# setter likevektsprisen inn i funksjonen for å få kvantum verdien, med mva\n",
    "500-3.2*93.3852140077821"
   ]
  },
  {
   "cell_type": "markdown",
   "id": "38d6f166-9fa9-4d3d-bd69-e72e7dc267ad",
   "metadata": {},
   "source": [
    "#### Resultater:\n",
    "\n",
    "##### Likevektspris, p = 80\n",
    "##### Likevektspris med mva, p = 93.3852140077821\n",
    "##### Kvantum, p = 80 -> 244\n",
    "##### Kvantum med mva, p = 93.3852140077821 -> 201.16731517509726"
   ]
  },
  {
   "cell_type": "code",
   "execution_count": 142,
   "id": "0109e14f-10eb-4300-bc67-4c0659bf9145",
   "metadata": {},
   "outputs": [
    {
     "data": {
      "text/plain": [
       "Text(201.167315175097, 93.3852140077821, 'Likevekt med mva')"
      ]
     },
     "execution_count": 142,
     "metadata": {},
     "output_type": "execute_result"
    },
    {
     "data": {
      "image/png": "[encoded data removed]",
      "text/plain": [
       "<Figure size 640x480 with 1 Axes>"
      ]
     },
     "metadata": {},
     "output_type": "display_data"
    }
   ],
   "source": [
    "\n",
    "# lager samme plot som sist\n",
    "fig, ax1 = create_ax()\n",
    "\n",
    "ax1.plot(x_d(p_num),p_num, label='Etterspørsel')\n",
    "\n",
    "ax1.plot(x_s(p_num, 0),p_num, label='Tilbud')\n",
    "\n",
    "ax1.plot(demand_mva(p_num, 0),p_num, label='Tilbud med mva')\n",
    "ax1.legend(bbox_to_anchor=(1.5,0.6));\n",
    "\n",
    "\n",
    "\n",
    "# setter inn likevektsverdiene\n",
    "ax1.text(244.0, 80, \"Likevekt\")\n",
    "ax1.text(201.167315175097, 93.3852140077821, \"Likevekt med mva\")"
   ]
  },
  {
   "cell_type": "markdown",
   "id": "3a920dc7-797f-4534-acdb-05b5f5807ff0",
   "metadata": {},
   "source": [
    "### OPPGAVE 3\n",
    "\n",
    "##### Beregn og vis inntekten til staten, og andelen som betales av konsumenter og produsenter."
   ]
  },
  {
   "cell_type": "code",
   "execution_count": 261,
   "id": "7c4b5be1-83c3-48ca-a421-7a38a0b77df2",
   "metadata": {},
   "outputs": [
    {
     "data": {
      "text/plain": [
       "23.346303501945524"
      ]
     },
     "execution_count": 261,
     "metadata": {},
     "output_type": "execute_result"
    }
   ],
   "source": [
    "#prisen som konsumentene får er 93.osv\n",
    "93.3852140077821*0.25"
   ]
  },
  {
   "cell_type": "code",
   "execution_count": 262,
   "id": "1956b7b7-692d-44a0-b549-35f7dc73241e",
   "metadata": {},
   "outputs": [
    {
     "data": {
      "text/plain": [
       "69.93891050583657"
      ]
     },
     "execution_count": 262,
     "metadata": {},
     "output_type": "execute_result"
    }
   ],
   "source": [
    "#prisen produsenten mottar\n",
    "93.2852140077821-23.346303501945524"
   ]
  },
  {
   "cell_type": "code",
   "execution_count": 269,
   "id": "814b7707-5563-4f33-8258-d36fe5681203",
   "metadata": {},
   "outputs": [
    {
     "name": "stdout",
     "output_type": "stream",
     "text": [
      "13.285214007782102 10.061089494163426\n",
      "med kvantum 201.167315175097\n"
     ]
    }
   ],
   "source": [
    "a = 93.2852140077821-80\n",
    "\n",
    "b = 80-69.93891050583657\n",
    "\n",
    "print(a, b)\n",
    "print(\"med kvantum 201.167315175097\")"
   ]
  },
  {
   "cell_type": "markdown",
   "id": "c038c755-1e0f-43a0-bee9-3192a7ad5197",
   "metadata": {},
   "source": [
    "##### Konsumentene betaler 93.2852140077821, produsentene betaler 69.93891050583657"
   ]
  },
  {
   "cell_type": "markdown",
   "id": "c6bddb09-7279-4e04-945a-1497987e573b",
   "metadata": {},
   "source": [
    "### OPPGAVE 4\n",
    "\n",
    "##### Hva er fordeler/ulemper av en mva og en stykkprisavgift?\n",
    "\n",
    "##### Fordel mva : \n",
    "##### 1. Øker statens inntekter. 2. Enkel å administrere. 3. Fast verdi uansett\n",
    "\n",
    "##### Fordel stykkprisavgift:\n",
    "##### 1. Gir en mer rettferdig beskatning, siden den tar hensyn til kjøpekraft. 2. Kan være mer bærekraftig produksjon\n",
    "\n",
    "##### Ulemper mva:\n",
    "##### 1. Øker totalkostnadene for forbrukerne\n",
    "\n",
    "##### Ulemper stykkprisavgift:\n",
    "##### 1. Kan være komplisert å administrere og innføre."
   ]
  },
  {
   "cell_type": "code",
   "execution_count": null,
   "id": "37e1810b-2a16-4918-bc02-f7b6cc4954eb",
   "metadata": {},
   "outputs": [],
   "source": []
  }
 ],
 "metadata": {
  "kernelspec": {
   "display_name": "Python 3 (ipykernel)",
   "language": "python",
   "name": "python3"
  },
  "language_info": {
   "codemirror_mode": {
    "name": "ipython",
    "version": 3
   },
   "file_extension": ".py",
   "mimetype": "text/x-python",
   "name": "python",
   "nbconvert_exporter": "python",
   "pygments_lexer": "ipython3",
   "version": "3.9.15"
  }
 },
 "nbformat": 4,
 "nbformat_minor": 5
}
